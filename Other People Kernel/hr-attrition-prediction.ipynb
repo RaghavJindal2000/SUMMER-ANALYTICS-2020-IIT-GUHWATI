{
 "cells": [
  {
   "cell_type": "markdown",
   "execution_count": null,
   "metadata": {},
   "source": [
    "# Importing Packages"
   ]
  },
  {
   "cell_type": "code",
   "execution_count": 1,
   "metadata": {},
   "outputs": [],
   "source": [
    "import pandas as pd\n",
    "import numpy as np\n",
    "import matplotlib.pyplot as plt\n",
    "from sklearn.model_selection import StratifiedKFold\n",
    "from sklearn.compose import make_column_transformer\n",
    "from sklearn.ensemble import RandomForestClassifier\n",
    "from sklearn.model_selection import GridSearchCV,RandomizedSearchCV\n",
    "from sklearn.svm import  SVC\n",
    "from sklearn.decomposition import PCA\n",
    "from xgboost import XGBClassifier\n",
    "from sklearn.model_selection import cross_val_score\n",
    "from sklearn.preprocessing import StandardScaler,RobustScaler\n",
    "from sklearn.preprocessing import OneHotEncoder,LabelEncoder\n",
    "from sklearn.pipeline import make_pipeline\n",
    "pd.set_option('display.max_columns', 10)\n",
    "pd.set_option('display.max_rows', 1000)\n"
   ]
  },
  {
   "cell_type": "markdown",
   "execution_count": null,
   "metadata": {},
   "source": [
    "# Loading Datasets"
   ]
  },
  {
   "cell_type": "markdown",
   "execution_count": null,
   "metadata": {},
   "source": [
    "To preserve the original training data I have made a copy of it."
   ]
  },
  {
   "cell_type": "code",
   "execution_count": 2,
   "metadata": {},
   "outputs": [],
   "source": [
    "training = pd.read_csv('../input/summeranalytics2020/train.csv')\n",
    "train_data = training.copy()\n",
    "test_data = pd.read_csv('../input/summeranalytics2020/test.csv')"
   ]
  },
  {
   "cell_type": "markdown",
   "execution_count": null,
   "metadata": {},
   "source": [
    "# Basic EDA"
   ]
  },
  {
   "cell_type": "code",
   "execution_count": 3,
   "metadata": {
    "scrolled": true
   },
   "outputs": [
    {
     "data": {
      "text/html": [
       "<div>\n",
       "<style scoped>\n",
       "    .dataframe tbody tr th:only-of-type {\n",
       "        vertical-align: middle;\n",
       "    }\n",
       "\n",
       "    .dataframe tbody tr th {\n",
       "        vertical-align: top;\n",
       "    }\n",
       "\n",
       "    .dataframe thead th {\n",
       "        text-align: right;\n",
       "    }\n",
       "</style>\n",
       "<table border=\"1\" class=\"dataframe\">\n",
       "  <thead>\n",
       "    <tr style=\"text-align: right;\">\n",
       "      <th></th>\n",
       "      <th>Id</th>\n",
       "      <th>Age</th>\n",
       "      <th>Attrition</th>\n",
       "      <th>BusinessTravel</th>\n",
       "      <th>Department</th>\n",
       "      <th>...</th>\n",
       "      <th>YearsInCurrentRole</th>\n",
       "      <th>YearsSinceLastPromotion</th>\n",
       "      <th>YearsWithCurrManager</th>\n",
       "      <th>CommunicationSkill</th>\n",
       "      <th>Behaviour</th>\n",
       "    </tr>\n",
       "  </thead>\n",
       "  <tbody>\n",
       "    <tr>\n",
       "      <th>0</th>\n",
       "      <td>1</td>\n",
       "      <td>30</td>\n",
       "      <td>0</td>\n",
       "      <td>Non-Travel</td>\n",
       "      <td>Research &amp; Development</td>\n",
       "      <td>...</td>\n",
       "      <td>7</td>\n",
       "      <td>6</td>\n",
       "      <td>7</td>\n",
       "      <td>4</td>\n",
       "      <td>1</td>\n",
       "    </tr>\n",
       "    <tr>\n",
       "      <th>1</th>\n",
       "      <td>2</td>\n",
       "      <td>36</td>\n",
       "      <td>0</td>\n",
       "      <td>Travel_Rarely</td>\n",
       "      <td>Research &amp; Development</td>\n",
       "      <td>...</td>\n",
       "      <td>2</td>\n",
       "      <td>1</td>\n",
       "      <td>1</td>\n",
       "      <td>2</td>\n",
       "      <td>1</td>\n",
       "    </tr>\n",
       "    <tr>\n",
       "      <th>2</th>\n",
       "      <td>3</td>\n",
       "      <td>55</td>\n",
       "      <td>1</td>\n",
       "      <td>Travel_Rarely</td>\n",
       "      <td>Sales</td>\n",
       "      <td>...</td>\n",
       "      <td>7</td>\n",
       "      <td>7</td>\n",
       "      <td>3</td>\n",
       "      <td>5</td>\n",
       "      <td>1</td>\n",
       "    </tr>\n",
       "    <tr>\n",
       "      <th>3</th>\n",
       "      <td>4</td>\n",
       "      <td>39</td>\n",
       "      <td>0</td>\n",
       "      <td>Travel_Rarely</td>\n",
       "      <td>Research &amp; Development</td>\n",
       "      <td>...</td>\n",
       "      <td>7</td>\n",
       "      <td>1</td>\n",
       "      <td>7</td>\n",
       "      <td>4</td>\n",
       "      <td>1</td>\n",
       "    </tr>\n",
       "    <tr>\n",
       "      <th>4</th>\n",
       "      <td>5</td>\n",
       "      <td>37</td>\n",
       "      <td>0</td>\n",
       "      <td>Travel_Rarely</td>\n",
       "      <td>Research &amp; Development</td>\n",
       "      <td>...</td>\n",
       "      <td>7</td>\n",
       "      <td>7</td>\n",
       "      <td>8</td>\n",
       "      <td>1</td>\n",
       "      <td>1</td>\n",
       "    </tr>\n",
       "  </tbody>\n",
       "</table>\n",
       "<p>5 rows × 29 columns</p>\n",
       "</div>"
      ],
      "text/plain": [
       "   Id  Age  Attrition BusinessTravel              Department  ...  \\\n",
       "0   1   30          0     Non-Travel  Research & Development  ...   \n",
       "1   2   36          0  Travel_Rarely  Research & Development  ...   \n",
       "2   3   55          1  Travel_Rarely                   Sales  ...   \n",
       "3   4   39          0  Travel_Rarely  Research & Development  ...   \n",
       "4   5   37          0  Travel_Rarely  Research & Development  ...   \n",
       "\n",
       "   YearsInCurrentRole  YearsSinceLastPromotion YearsWithCurrManager  \\\n",
       "0                   7                        6                    7   \n",
       "1                   2                        1                    1   \n",
       "2                   7                        7                    3   \n",
       "3                   7                        1                    7   \n",
       "4                   7                        7                    8   \n",
       "\n",
       "   CommunicationSkill  Behaviour  \n",
       "0                   4          1  \n",
       "1                   2          1  \n",
       "2                   5          1  \n",
       "3                   4          1  \n",
       "4                   1          1  \n",
       "\n",
       "[5 rows x 29 columns]"
      ]
     },
     "execution_count": 3,
     "metadata": {},
     "output_type": "execute_result"
    }
   ],
   "source": [
    "train_data.head()"
   ]
  },
  {
   "cell_type": "code",
   "execution_count": 4,
   "metadata": {},
   "outputs": [
    {
     "name": "stdout",
     "output_type": "stream",
     "text": [
      "<class 'pandas.core.frame.DataFrame'>\n",
      "RangeIndex: 1628 entries, 0 to 1627\n",
      "Data columns (total 29 columns):\n",
      " #   Column                   Non-Null Count  Dtype \n",
      "---  ------                   --------------  ----- \n",
      " 0   Id                       1628 non-null   int64 \n",
      " 1   Age                      1628 non-null   int64 \n",
      " 2   Attrition                1628 non-null   int64 \n",
      " 3   BusinessTravel           1628 non-null   object\n",
      " 4   Department               1628 non-null   object\n",
      " 5   DistanceFromHome         1628 non-null   int64 \n",
      " 6   Education                1628 non-null   int64 \n",
      " 7   EducationField           1628 non-null   object\n",
      " 8   EmployeeNumber           1628 non-null   int64 \n",
      " 9   EnvironmentSatisfaction  1628 non-null   int64 \n",
      " 10  Gender                   1628 non-null   object\n",
      " 11  JobInvolvement           1628 non-null   int64 \n",
      " 12  JobRole                  1628 non-null   object\n",
      " 13  JobSatisfaction          1628 non-null   int64 \n",
      " 14  MaritalStatus            1628 non-null   object\n",
      " 15  MonthlyIncome            1628 non-null   int64 \n",
      " 16  NumCompaniesWorked       1628 non-null   int64 \n",
      " 17  OverTime                 1628 non-null   object\n",
      " 18  PercentSalaryHike        1628 non-null   int64 \n",
      " 19  PerformanceRating        1628 non-null   int64 \n",
      " 20  StockOptionLevel         1628 non-null   int64 \n",
      " 21  TotalWorkingYears        1628 non-null   int64 \n",
      " 22  TrainingTimesLastYear    1628 non-null   int64 \n",
      " 23  YearsAtCompany           1628 non-null   int64 \n",
      " 24  YearsInCurrentRole       1628 non-null   int64 \n",
      " 25  YearsSinceLastPromotion  1628 non-null   int64 \n",
      " 26  YearsWithCurrManager     1628 non-null   int64 \n",
      " 27  CommunicationSkill       1628 non-null   int64 \n",
      " 28  Behaviour                1628 non-null   int64 \n",
      "dtypes: int64(22), object(7)\n",
      "memory usage: 369.0+ KB\n"
     ]
    }
   ],
   "source": [
    "train_data.info()"
   ]
  },
  {
   "cell_type": "markdown",
   "execution_count": null,
   "metadata": {},
   "source": [
    "We have 1628 observations and 29 features, out of which 22 are integers and 7 are objects. Some of the integer data type features might also be categorical. We have to predict Attrition which can either be 0 or 1 (1 if the employee left the company)."
   ]
  },
  {
   "cell_type": "code",
   "execution_count": 5,
   "metadata": {},
   "outputs": [
    {
     "name": "stdout",
     "output_type": "stream",
     "text": [
      "                Id          Age    Attrition  DistanceFromHome    Education  \\\n",
      "count  1628.000000  1628.000000  1628.000000       1628.000000  1628.000000   \n",
      "mean    814.500000    35.645577     0.482187          9.735258     2.884521   \n",
      "std     470.107435     9.481794     0.499836          8.306546     1.020470   \n",
      "min       1.000000    18.000000     0.000000          1.000000     1.000000   \n",
      "25%     407.750000    29.000000     0.000000          2.000000     2.000000   \n",
      "50%     814.500000    34.000000     0.000000          8.000000     3.000000   \n",
      "75%    1221.250000    42.000000     1.000000         15.000000     4.000000   \n",
      "max    1628.000000    60.000000     1.000000         29.000000     5.000000   \n",
      "\n",
      "       ...  YearsInCurrentRole  YearsSinceLastPromotion  YearsWithCurrManager  \\\n",
      "count  ...         1628.000000              1628.000000           1628.000000   \n",
      "mean   ...            3.614865                 2.049140              3.551597   \n",
      "std    ...            3.481051                 3.138287              3.494369   \n",
      "min    ...            0.000000                 0.000000              0.000000   \n",
      "25%    ...            1.000000                 0.000000              0.000000   \n",
      "50%    ...            2.000000                 1.000000              2.000000   \n",
      "75%    ...            7.000000                 2.000000              7.000000   \n",
      "max    ...           18.000000                15.000000             17.000000   \n",
      "\n",
      "       CommunicationSkill  Behaviour  \n",
      "count         1628.000000     1628.0  \n",
      "mean             3.135749        1.0  \n",
      "std              1.408770        0.0  \n",
      "min              1.000000        1.0  \n",
      "25%              2.000000        1.0  \n",
      "50%              3.000000        1.0  \n",
      "75%              4.000000        1.0  \n",
      "max              5.000000        1.0  \n",
      "\n",
      "[8 rows x 22 columns]\n"
     ]
    }
   ],
   "source": [
    "print(train_data.describe())"
   ]
  },
  {
   "cell_type": "markdown",
   "execution_count": null,
   "metadata": {},
   "source": [
    "The weird thing to note here is that Behaviour has 0 standard deviation and mean=min=max = 1. This means that this columns has a value of 1 for all the observations, so we will drop it. We will also drop Id because it will have unique values for all the employees."
   ]
  },
  {
   "cell_type": "code",
   "execution_count": 6,
   "metadata": {},
   "outputs": [],
   "source": [
    "train_id = train_data.Id\n",
    "train_data = train_data.drop(['Behaviour','Id'],axis = 1)\n",
    "\n",
    "test_id = test_data.Id\n",
    "test_data = test_data.drop(['Behaviour','Id'],axis = 1)"
   ]
  },
  {
   "cell_type": "markdown",
   "execution_count": null,
   "metadata": {},
   "source": [
    "On exploring a little further I found that the feature PerformanceRating has only two values, 3 or 4 so I have mapped them to 0 and 1 respectively."
   ]
  },
  {
   "cell_type": "code",
   "execution_count": 7,
   "metadata": {},
   "outputs": [],
   "source": [
    "train_data['PerformanceRating'] = train_data['PerformanceRating'].apply(lambda x: 0 if x == 3 else 1)\n",
    "test_data['PerformanceRating'] = test_data['PerformanceRating'].apply(lambda x: 0 if x == 3 else 1)"
   ]
  },
  {
   "cell_type": "markdown",
   "execution_count": null,
   "metadata": {},
   "source": [
    "Lets check the distribution of out target variable Attrition."
   ]
  },
  {
   "cell_type": "code",
   "execution_count": 8,
   "metadata": {},
   "outputs": [
    {
     "data": {
      "text/plain": [
       "<matplotlib.axes._subplots.AxesSubplot at 0x7fd6664555d0>"
      ]
     },
     "execution_count": 8,
     "metadata": {},
     "output_type": "execute_result"
    },
    {
     "data": {
      "image/png": "[encoded data removed]",
      "text/plain": [
       "<Figure size 432x288 with 1 Axes>"
      ]
     },
     "metadata": {
      "needs_background": "light"
     },
     "output_type": "display_data"
    }
   ],
   "source": [
    "train_data['Attrition'].value_counts().plot(kind = 'bar')"
   ]
  },
  {
   "cell_type": "markdown",
   "execution_count": null,
   "metadata": {},
   "source": [
    "We have more or less a balanced distribution. Lets check for duplciates"
   ]
  },
  {
   "cell_type": "code",
   "execution_count": 9,
   "metadata": {},
   "outputs": [
    {
     "name": "stdout",
     "output_type": "stream",
     "text": [
      "Number of duplicates:  628\n"
     ]
    }
   ],
   "source": [
    "print('Number of duplicates: ',train_data.duplicated().sum())"
   ]
  },
  {
   "cell_type": "code",
   "execution_count": 10,
   "metadata": {},
   "outputs": [
    {
     "data": {
      "text/plain": [
       "<matplotlib.axes._subplots.AxesSubplot at 0x7fd6661fc150>"
      ]
     },
     "execution_count": 10,
     "metadata": {},
     "output_type": "execute_result"
    },
    {
     "data": {
      "image/png": "[encoded data removed]",
      "text/plain": [
       "<Figure size 432x288 with 1 Axes>"
      ]
     },
     "metadata": {
      "needs_background": "light"
     },
     "output_type": "display_data"
    }
   ],
   "source": [
    "train_data[train_data.duplicated()]['Attrition'].value_counts().plot(kind = 'bar')"
   ]
  },
  {
   "cell_type": "markdown",
   "execution_count": null,
   "metadata": {},
   "source": [
    "Alright, so the data has 628 duplicates and all the duplicates correspond to Attrition 1. So that means that data was oversampled to make it balanced. We will drop the duplicates now and check the distribution again."
   ]
  },
  {
   "cell_type": "code",
   "execution_count": 11,
   "metadata": {},
   "outputs": [
    {
     "name": "stdout",
     "output_type": "stream",
     "text": [
      "New train set:  (1000, 27)\n"
     ]
    },
    {
     "data": {
      "image/png": "[encoded data removed]",
      "text/plain": [
       "<Figure size 432x288 with 1 Axes>"
      ]
     },
     "metadata": {
      "needs_background": "light"
     },
     "output_type": "display_data"
    }
   ],
   "source": [
    "# drop them\n",
    "\n",
    "train_unq = train_data.drop_duplicates()\n",
    "print('New train set: ',train_unq.shape)\n",
    "X = train_unq.drop('Attrition',axis = 1)\n",
    "y = train_unq['Attrition']\n",
    "y.value_counts().plot(kind = 'bar')\n",
    "plt.show()"
   ]
  },
  {
   "cell_type": "markdown",
   "execution_count": null,
   "metadata": {},
   "source": [
    "Now our training data has 1000 data points and the target variable is imbalanced. There are many ways to tackle imbalanced data sets like upsampling or downsampling using SMOTE."
   ]
  },
  {
   "cell_type": "markdown",
   "execution_count": null,
   "metadata": {},
   "source": [
    "We can also use a cross validation strategy such as stratified k-fold which keeps the distribution of our target variable (here Attrition) similar across the folds. The training and validation data is split using stratified sampling instead of random sampling. The stratas here are the two values of our target variable. If you don't understand what this means then don't worry about it just remember that it is an effective method to tackle imbalanced datasets while we train our model. You can learn more about it in the scikit-learn user guide for cross validation."
   ]
  },
  {
   "cell_type": "markdown",
   "execution_count": null,
   "metadata": {},
   "source": [
    "# Pre-Processing, Training and Validation"
   ]
  },
  {
   "cell_type": "markdown",
   "execution_count": null,
   "metadata": {},
   "source": [
    "\n",
    "We will follow the following steps now:\n",
    "\n",
    "- Drop performance rating (on exploration I found that 85% values were of a single class this might lead to overfitting)\n",
    "- One Hot Encode all the 'object' data type features\n",
    "- Use standard scaling on all the integer data type features.\n",
    "- Use the pre-processed data and split it using Stratified K-Fold.\n",
    "- Fit and validate with 3 candidate models: Random Forest, XGBoost and Support Vector Classifier"
   ]
  },
  {
   "cell_type": "code",
   "execution_count": 12,
   "metadata": {},
   "outputs": [],
   "source": [
    "# Standard Scaling\n",
    "skf = StratifiedKFold(n_splits = 10,random_state=42,shuffle=True)\n",
    "\n",
    "categorical = [f for f in training.columns if training[f].dtype == object]\n",
    "numeric = [f for f in X.columns if f not in categorical+['Id','Attrition','Behaviour','PerformanceRating']]\n",
    "\n",
    "pre_pipe = make_column_transformer((OneHotEncoder(),categorical),(StandardScaler(),numeric))"
   ]
  },
  {
   "cell_type": "markdown",
   "execution_count": null,
   "metadata": {},
   "source": [
    "Testing on 3 candidate models: Random Forest, XGBoost, Support Vector Machines"
   ]
  },
  {
   "cell_type": "code",
   "execution_count": 13,
   "metadata": {},
   "outputs": [
    {
     "name": "stdout",
     "output_type": "stream",
     "text": [
      "RF:  0.8044762780112045\n",
      "XGB:  0.7940574229691877\n",
      "SVC: 0.822673319327731\n"
     ]
    }
   ],
   "source": [
    "pipe_rf = make_pipeline(pre_pipe,RandomForestClassifier())\n",
    "pipe_xgb = make_pipeline(pre_pipe,XGBClassifier())\n",
    "pipe_svc = make_pipeline(pre_pipe,SVC(probability=True))\n",
    "\n",
    "\n",
    "print('RF: ',np.mean(cross_val_score(X=X,y=y,cv=skf,estimator=pipe_rf,scoring='roc_auc')))\n",
    "print('XGB: ',np.mean(cross_val_score(X=X,y=y,cv=skf,estimator=pipe_xgb,scoring='roc_auc')))\n",
    "print('SVC:',np.mean(cross_val_score(X=X,y=y,cv=skf,estimator=pipe_svc,scoring='roc_auc')))"
   ]
  },
  {
   "cell_type": "markdown",
   "execution_count": null,
   "metadata": {},
   "source": [
    "SVC performs best here - trying out PCA"
   ]
  },
  {
   "cell_type": "code",
   "execution_count": 14,
   "metadata": {},
   "outputs": [
    {
     "name": "stdout",
     "output_type": "stream",
     "text": [
      "SVC:  0.8192405462184873\n"
     ]
    },
    {
     "data": {
      "image/png": "[encoded data removed]",
      "text/plain": [
       "<Figure size 720x576 with 1 Axes>"
      ]
     },
     "metadata": {
      "needs_background": "light"
     },
     "output_type": "display_data"
    }
   ],
   "source": [
    "n = 46\n",
    "pipe_svc = make_pipeline(pre_pipe,PCA(n_components=n),SVC(probability=True,C = 1,kernel='rbf'))\n",
    "print('SVC: ',np.mean(cross_val_score(X=X,y=y,cv=skf,estimator=pipe_svc,scoring='roc_auc')))\n",
    "\n",
    "plt.figure(figsize=(10,8))\n",
    "pipe_svc.fit(X,y)\n",
    "plt.plot(range(1,n+1),pipe_svc.named_steps['pca'].explained_variance_ratio_.cumsum())\n",
    "plt.xticks(range(1,n+1,2))\n",
    "plt.title('Explained Variance')\n",
    "plt.grid()\n",
    "plt.show()"
   ]
  },
  {
   "cell_type": "markdown",
   "execution_count": null,
   "metadata": {},
   "source": [
    "34 components are explaining 100% of the variance"
   ]
  },
  {
   "cell_type": "code",
   "execution_count": 15,
   "metadata": {},
   "outputs": [
    {
     "name": "stdout",
     "output_type": "stream",
     "text": [
      "SVC:  0.8196367296918767\n"
     ]
    }
   ],
   "source": [
    "n = 34\n",
    "pre_pipe = make_column_transformer((OneHotEncoder(),categorical),(StandardScaler(),numeric),remainder = 'passthrough')\n",
    "pipe_svc = make_pipeline(pre_pipe,PCA(n_components=n),SVC(probability=True,C = 1,kernel='rbf'))\n",
    "print('SVC: ',np.mean(cross_val_score(X=X,y=y,cv=skf,estimator=pipe_svc,scoring='roc_auc')))"
   ]
  },
  {
   "cell_type": "markdown",
   "execution_count": null,
   "metadata": {},
   "source": [
    "Tuning SVC - using Grid Search"
   ]
  },
  {
   "cell_type": "code",
   "execution_count": 16,
   "metadata": {},
   "outputs": [
    {
     "name": "stdout",
     "output_type": "stream",
     "text": [
      "Fitting 10 folds for each of 28 candidates, totalling 280 fits\n"
     ]
    },
    {
     "name": "stderr",
     "output_type": "stream",
     "text": [
      "[Parallel(n_jobs=-1)]: Using backend LokyBackend with 4 concurrent workers.\n",
      "[Parallel(n_jobs=-1)]: Done  33 tasks      | elapsed:    4.9s\n",
      "[Parallel(n_jobs=-1)]: Done 154 tasks      | elapsed:   15.9s\n",
      "[Parallel(n_jobs=-1)]: Done 280 out of 280 | elapsed:   29.2s finished\n"
     ]
    },
    {
     "name": "stdout",
     "output_type": "stream",
     "text": [
      "Best score  0.8317690826330532\n",
      "Best parameters  {'svc__C': 0.1, 'svc__class_weight': None, 'svc__gamma': 'auto'}\n"
     ]
    }
   ],
   "source": [
    "n = 34\n",
    "pre_pipe = make_column_transformer((OneHotEncoder(),categorical),(StandardScaler(),numeric),remainder = 'passthrough')\n",
    "pipe_svc = make_pipeline(pre_pipe,PCA(n_components=n),SVC(probability=True,C = 1,kernel = 'rbf'))\n",
    "\n",
    "param_grid = {\n",
    "    \n",
    "    'svc__C':[0.001,0.01,0.1,1,10,100,1000],\n",
    "    'svc__gamma': ['auto','scale'],\n",
    "    'svc__class_weight': ['balanced',None]\n",
    "}    \n",
    "\n",
    "grid_search = GridSearchCV(pipe_svc,param_grid=param_grid,cv = skf, verbose=2, n_jobs = -1,scoring='roc_auc')\n",
    "grid_search.fit(X,y)\n",
    "print('Best score ',grid_search.best_score_)\n",
    "print('Best parameters ',grid_search.best_params_)\n",
    "best_svc = grid_search.best_estimator_"
   ]
  },
  {
   "cell_type": "markdown",
   "execution_count": null,
   "metadata": {},
   "source": [
    "We can tune it further"
   ]
  },
  {
   "cell_type": "code",
   "execution_count": 17,
   "metadata": {},
   "outputs": [
    {
     "name": "stdout",
     "output_type": "stream",
     "text": [
      "Fitting 10 folds for each of 9 candidates, totalling 90 fits\n"
     ]
    },
    {
     "name": "stderr",
     "output_type": "stream",
     "text": [
      "[Parallel(n_jobs=-1)]: Using backend LokyBackend with 4 concurrent workers.\n",
      "[Parallel(n_jobs=-1)]: Done  33 tasks      | elapsed:    2.5s\n",
      "[Parallel(n_jobs=-1)]: Done  90 out of  90 | elapsed:    6.4s finished\n"
     ]
    },
    {
     "name": "stdout",
     "output_type": "stream",
     "text": [
      "Best score  0.8319178921568628\n",
      "Best parameters  {'svc__C': 0.05}\n"
     ]
    }
   ],
   "source": [
    "pipe_svc = make_pipeline(pre_pipe,PCA(n_components=n),SVC(probability=True,C = 1,kernel='rbf',class_weight=None,gamma='auto'))\n",
    "param_grid={\n",
    "    'svc__C':[0.01,0.03,0.05,0.07,0.1,0.3,0.5,0.7,1]  \n",
    "}\n",
    "grid_search = GridSearchCV(pipe_svc,param_grid=param_grid,cv = skf, verbose=2, n_jobs = -1,scoring = 'roc_auc')\n",
    "grid_search.fit(X,y)\n",
    "print('Best score ',grid_search.best_score_)\n",
    "print('Best parameters ',grid_search.best_params_)\n",
    "best_svc = grid_search.best_estimator_ # final model - 0.808 private LB*"
   ]
  },
  {
   "cell_type": "markdown",
   "execution_count": null,
   "metadata": {},
   "source": [
    "Submission"
   ]
  },
  {
   "cell_type": "code",
   "execution_count": 18,
   "metadata": {},
   "outputs": [],
   "source": [
    "best_svc.fit(X,y)\n",
    "prediction = best_svc.predict_proba(test_data)[:,1]\n",
    "submission = pd.DataFrame(prediction,columns=['Attrition'])\n",
    "submission['Id'] = test_id\n",
    "submission = submission[['Id','Attrition']]\n",
    "submission.to_csv('submissionfile_postcomp.csv',index = None)"
   ]
  },
  {
   "cell_type": "markdown",
   "execution_count": null,
   "metadata": {},
   "source": [
    "**If you liked this notebook and learnt something new from it do give an upvote. You can also checkout my [blog on medium](http://https://medium.com/@mishraarpan6) where I have given an in-depth explanation about Support Vector Machines and have provided a deeper dive into the code here with links to all the documentaion.**"
   ]
  }
 ],
 "metadata": {
  "kernelspec": {
   "display_name": "Python 3",
   "language": "python",
   "name": "python3"
  },
  "language_info": {
   "codemirror_mode": {
    "name": "ipython",
    "version": 3
   },
   "file_extension": ".py",
   "mimetype": "text/x-python",
   "name": "python",
   "nbconvert_exporter": "python",
   "pygments_lexer": "ipython3",
   "version": "3.7.6"
  }
 },
 "nbformat": 4,
 "nbformat_minor": 4
}
